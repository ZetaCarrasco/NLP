{
 "cells": [
  {
   "cell_type": "code",
   "execution_count": null,
   "id": "f02ea6a0",
   "metadata": {},
   "outputs": [],
   "source": [
    "import os\n",
    "import pickle\n",
    "import pandas as pd\n",
    "import numpy as np\n",
    "import glob\n",
    "from sklearn.feature_extraction.text import CountVectorizer\n",
    "from sklearn.naive_bayes import MultinomialNB\n",
    "from sklearn.model_selection import train_test_split\n",
    "from sklearn.metrics import accuracy_score\n",
    "from sklearn import metrics\n",
    "from sklearn.model_selection import GridSearchCV\n",
    "from sklearn.svm import SVC\n",
    "from sklearn.metrics import f1_score\n",
    "from itertools import product\n",
    "from sklearn.linear_model import LogisticRegression\n",
    "from collections import defaultdict"
   ]
  },
  {
   "cell_type": "code",
   "execution_count": null,
   "id": "16369e6d",
   "metadata": {},
   "outputs": [],
   "source": [
    "all_files = glob.glob(\"archive/*.csv\")\n",
    "dfs = []\n",
    "for filename in all_files:\n",
    "    df = pd.read_csv(filename)\n",
    "    df.fillna('unknow', inplace=True)\n",
    "    df.rename(columns= {'old_column_name': 'new_column_name'}, inplace=True)\n",
    "    dfs.append(df)\n",
    "    index = ['row1']"
   ]
  },
  {
   "cell_type": "code",
   "execution_count": null,
   "id": "237321f2",
   "metadata": {},
   "outputs": [],
   "source": [
    "combined_df = pd.concat(dfs, ignore_index=True)\n",
    "print('print combined:',combined_df)\n",
    "#separar os dados \n",
    "X = combined_df['text']\n",
    "y = combined_df['class']\n",
    "print(combined_df['class'].value_counts())"
   ]
  },
  {
   "cell_type": "code",
   "execution_count": null,
   "id": "2945a80f",
   "metadata": {},
   "outputs": [],
   "source": [
    "X_train, X_test, y_train, y_test = train_test_split(X, y, test_size=0.2, random_state=42)\n",
    "print(X_train)\n",
    "print(y_test)"
   ]
  },
  {
   "cell_type": "code",
   "execution_count": null,
   "id": "3031b775",
   "metadata": {},
   "outputs": [],
   "source": [
    "#Vectorizar os dados\n",
    "vectorized = CountVectorizer()\n",
    "X_train_transformed = vectorized.fit_transform(X_train)\n",
    "X_test_transformed = vectorized.transform(X_test)\n",
    "print(X_train_transformed)"
   ]
  },
  {
   "cell_type": "code",
   "execution_count": null,
   "id": "df7a9b15",
   "metadata": {},
   "outputs": [],
   "source": [
    "#criar o modelo multinomial\n",
    "clf = MultinomialNB()\n",
    "clf.fit(X_train_transformed, y_train)"
   ]
  },
  {
   "cell_type": "code",
   "execution_count": null,
   "id": "907a30bd",
   "metadata": {},
   "outputs": [],
   "source": [
    "#predições do conjunto de provas\n",
    "y_pred = clf.predict(X_test_transformed)\n",
    "accuracy = metrics.accuracy_score(y_test, y_pred)\n",
    "print(accuracy)"
   ]
  },
  {
   "cell_type": "code",
   "execution_count": null,
   "id": "1224a1b7",
   "metadata": {},
   "outputs": [],
   "source": [
    "#aplicar Greedy Search na base de treino e acurácia\n",
    "gs = SVC()\n",
    "best_alpha = 0\n",
    "best_accuracy = 0"
   ]
  },
  {
   "cell_type": "code",
   "execution_count": null,
   "id": "1b072902",
   "metadata": {},
   "outputs": [],
   "source": [
    "for alpha in [0.1, 0.5, 1.0, 2.0]:\n",
    "    gs = MultinomialNB(alpha=alpha)\n",
    "    gs.fit(X_train_transformed, y_train)\n",
    "    y_pred = gs.predict(X_test_transformed)\n",
    "    accuracy = accuracy_score(y_test, y_pred)\n",
    "    if accuracy > best_accuracy:\n",
    "        best_accuracy = accuracy\n",
    "        best_alpha = alpha"
   ]
  },
  {
   "cell_type": "code",
   "execution_count": null,
   "id": "f36e7474",
   "metadata": {},
   "outputs": [],
   "source": [
    "print(\"Best alpha:\", best_alpha)\n",
    "print(\"Best accuracy:\", best_accuracy) "
   ]
  },
  {
   "cell_type": "code",
   "execution_count": null,
   "id": "b1aa90ee",
   "metadata": {},
   "outputs": [],
   "source": [
    "#calculando metricas com F1_Score(micro e macro)\n",
    "f1_micro= f1_score(y_test, y_pred, average=\"micro\") \n",
    "f1_macro = f1_score(y_test, y_pred, average=\"macro\")\n",
    "print(\"F1-score micro:\", f1_micro)\n",
    "print(\"F1-score macro:\", f1_macro)"
   ]
  },
  {
   "cell_type": "code",
   "execution_count": null,
   "id": "e2d5feb0",
   "metadata": {},
   "outputs": [],
   "source": [
    "metricas = pd.DataFrame(columns=['Best_alpha','Best_accuracy' 'F1-score Micro', 'F1-score Macro'])"
   ]
  },
  {
   "cell_type": "code",
   "execution_count": null,
   "id": "88f8880a",
   "metadata": {
    "lines_to_next_cell": 2
   },
   "outputs": [],
   "source": [
    "novos_resultados ={'Best_alpha': best_alpha, 'Best_accuracy': best_accuracy,'F1-score Micro': f1_score(y_test,y_pred, average=\"micro\"), 'F1-score Macro': f1_score(y_test, y_pred, average=\"macro\")}\n",
    "index = ['row1']\n",
    "df = pd.DataFrame(novos_resultados, index)"
   ]
  },
  {
   "cell_type": "code",
   "execution_count": null,
   "id": "f037fbbb",
   "metadata": {},
   "outputs": [],
   "source": [
    "print(df)\n",
    "df.to_csv(\"resultados_Sports.csv\", index=False)"
   ]
  }
 ],
 "metadata": {
  "jupytext": {
   "cell_metadata_filter": "-all",
   "main_language": "python",
   "notebook_metadata_filter": "-all"
  }
 },
 "nbformat": 4,
 "nbformat_minor": 5
}
